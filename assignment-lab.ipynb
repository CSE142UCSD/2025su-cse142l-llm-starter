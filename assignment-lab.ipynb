{
 "cells": [
  {
   "cell_type": "code",
   "execution_count": null,
   "metadata": {
    "deletable": false,
    "editable": false,
    "init_cell": true,
    "tags": []
   },
   "outputs": [],
   "source": [
    "# Please execute/shift-return this cell everytime you run the notebook.  Don't edit it. \n",
    "%load_ext autoreload\n",
    "%autoreload 2\n",
    "from notebook import * "
   ]
  },
  {
   "cell_type": "markdown",
   "metadata": {
    "cse142.is_response": true,
    "deletable": false,
    "editable": true
   },
   "source": [
    "<div class=\"namebox\">    \n",
    "Double Click to edit and enter your\n",
    "\n",
    "1.  Name\n",
    "2.  PID\n",
    "3.  @ucsd.edu email address\n",
    "    \n",
    "</div>"
   ]
  },
  {
   "cell_type": "markdown",
   "metadata": {
    "deleteable": false,
    "editable": false,
    "tags": []
   },
   "source": [
    "<div style=\" font-size: 300% !important;\n",
    "    margin-top: 1.5em;\n",
    "    margin-bottom: 10px;\n",
    "    font-weight: bold;\n",
    "    line-height: 1.0;\n",
    "    text-align:center;\">\n",
    "Programming Assignment/Lab 1: Understanding the critical performance bottleneck in LLMs!\n",
    "</div>"
   ]
  },
  {
   "cell_type": "markdown",
   "metadata": {
    "deleteable": false,
    "editable": false,
    "tags": []
   },
   "source": [
    "**Welcome to the first programming assignment/lab of CSE142L!**\n",
    "\n",
    "The main goals of this assignment/lab are:\n",
    "\n",
    "1. Get familiar with performance profiling tools.\n",
    "2. Get familiar with C/C++ and the development environment.\n",
    " \n",
    "This assignment/lab will be completed on **your own**. \n",
    "\n",
    "Check Gradescope for due date(s)."
   ]
  },
  {
   "cell_type": "markdown",
   "metadata": {
    "deleteable": false,
    "editable": false,
    "tags": []
   },
   "source": [
    "## Browser Compatibility"
   ]
  },
  {
   "cell_type": "markdown",
   "metadata": {
    "deleteable": false,
    "editable": false,
    "tags": []
   },
   "source": [
    "We are still working out some bugs in some browsers.  Here's the current status:\n",
    "\n",
    "1.  Chrome -- well tested.  Preferred option.\n",
    "2.  Firefox -- seems ok, but not thoroughly tested.\n",
    "3.  Edge -- seems ok, but not thoroughly tested.\n",
    "4.  Safari -- not supported at the moment.\n",
    "5.  Internet Explorer -- not supported at the moment.\n",
    "\n",
    "At the moment, the authentication step must be done in Chrome."
   ]
  },
  {
   "cell_type": "markdown",
   "metadata": {
    "deleteable": false,
    "editable": false,
    "tags": []
   },
   "source": [
    "## Keeping Your assignment/lab Up-to-Date\n",
    "\n",
    "Occasionally, there will be changes made to the base repository after the\n",
    "lab is released.  This may include bug fixes and updates to this document.  We'll post on piazza/edstem when an update is available.\n",
    "\n",
    "In those cases, you can use the following commands to pull the changes from upstream and merge them into your code.  You'll need to do this at a shell.  It won't work properly in the notebook.  Save your notebook in the browser first.\n"
   ]
  },
  {
   "cell_type": "markdown",
   "metadata": {
    "deleteable": false,
    "editable": false,
    "tags": []
   },
   "source": [
    "```\n",
    "cd <your directory for this assignment/lab>git remote add upstream $(cat .starter_repo)  # You need to do this once each time you checkout a new assignment/lab. It will fail \n",
    "                                              # harmlessly if you run it more than once.\n",
    "cp assignment-lab.ipynb assignment-lab.backup.ipynb                 # Backup your work.\n",
    "git commit -am \"My progress so far.\"          # commit your work.\n",
    "git pull upstream main --allow-unrelated-histories -X theirs # pull the updates\n",
    "```\n",
    "\n",
    "Or you can use the script we provide:"
   ]
  },
  {
   "cell_type": "code",
   "execution_count": null,
   "metadata": {
    "deleteable": false,
    "editable": false,
    "tags": []
   },
   "outputs": [],
   "source": [
    "# Be sure to click save to preseve your progress before updating\n",
    "! ./fix-repo\n",
    "! ./pull-updates"
   ]
  },
  {
   "cell_type": "markdown",
   "metadata": {
    "deleteable": false,
    "editable": false,
    "tags": []
   },
   "source": [
    "Then, reload this page in your browser."
   ]
  },
  {
   "cell_type": "markdown",
   "metadata": {
    "deleteable": false,
    "editable": false,
    "tags": []
   },
   "source": [
    "## How To Use This Document\n",
    "\n",
    "You will use Jupyter Notebook to complete this assignment/lab.  You should be able to do much of this assignment/lab without leaving Jupyter Notebook.  The main exception will be some of the programming chanllenges.  The instructions will make it clear when you should use the terminal.\n",
    "\n",
    "### Running Code\n",
    "\n",
    "Jupyter Notebooks are made up of \"cells\".  Some have Markdown-formatted text in them (like this one).  Some have Python code (like the one below).\n",
    "\n",
    "For code cells, you press `shift-return` to execute the code.  Try it below:"
   ]
  },
  {
   "cell_type": "code",
   "execution_count": null,
   "metadata": {
    "deleteable": false,
    "editable": false,
    "tags": []
   },
   "outputs": [],
   "source": [
    "print(\"I'm in python\")"
   ]
  },
  {
   "cell_type": "markdown",
   "metadata": {
    "deleteable": false,
    "editable": false,
    "tags": []
   },
   "source": [
    "Code cells can also execute shell commands using the `!` operator.  Try it below:"
   ]
  },
  {
   "cell_type": "code",
   "execution_count": null,
   "metadata": {
    "deleteable": false,
    "editable": false,
    "tags": []
   },
   "outputs": [],
   "source": [
    "!echo \"I'm in a shell\""
   ]
  },
  {
   "attachments": {
    "image.png": {
     "image/png": "[encoded data removed]"
    }
   },
   "cell_type": "markdown",
   "metadata": {
    "deleteable": false,
    "editable": false,
    "tags": []
   },
   "source": [
    "### Telling What The Notebook is Doing\n",
    "\n",
    "The notebook will only run one cell at a time, so if you press `shift-return` several times, the cells will wait for one another.  You can tell that a cell is waiting if it there's a `*` in the `[]` to the left the cell:\n",
    "\n",
    "![image.png](attachment:image.png)\n"
   ]
  },
  {
   "attachments": {
    "image.png": {
     "image/png": "[encoded data removed]"
    }
   },
   "cell_type": "markdown",
   "metadata": {
    "deleteable": false,
    "editable": false,
    "tags": []
   },
   "source": [
    "You'll can also tell _where_ the notebook is executing by looking at the table of contents on the left.  The section with the currently-executing cell will be red:\n",
    "\n",
    "![image.png](attachment:image.png)"
   ]
  },
  {
   "attachments": {
    "image.png": {
     "image/png": "[encoded data removed]"
    }
   },
   "cell_type": "markdown",
   "metadata": {
    "deleteable": false,
    "editable": false,
    "tags": []
   },
   "source": [
    "### What to Do Jupyter Notebook It Gets Stuck\n",
    "\n",
    "First, check if it's actually stuck: Some of the cells take a while, but they will usually provide some visual sign of progress.  If _nothing_ is happening for more than 10 seconds, it's probably stuck.\n",
    "\n",
    "To get it unstuck, you stop execution of the current cell with the \"interrupt button\":\n",
    "\n",
    "![image.png](attachment:image.png)"
   ]
  },
  {
   "cell_type": "markdown",
   "metadata": {},
   "source": [
    "### Use VSCode\n",
    "\n",
    "The container that we build for CSE142L provides a more friendly \"VSCode\" environment. To launch that environment, you should find and press the `+` icon near the file menu.\n",
    "\n",
    "![plus.png](plus.png)\n",
    "\n",
    "The interface will move to a launcher where you may find the following VSCode icon.\n",
    "\n",
    "![vscode.png](vscode.png)\n",
    "\n",
    "Press that icon and then you can enjoy VSCode environment!"
   ]
  },
  {
   "cell_type": "markdown",
   "metadata": {
    "tags": []
   },
   "source": [
    "# Profiling application performance\n",
    "\n",
    "Profiling can be valuable tool in figuring out where your code is spending time. \n",
    "\n",
    "To profile the llm.c project, you need to recompile it with the debug flag `-g` enabled. The purpose of the flag is to insert some useful metadata, including the mapping between function names/variables/source code lines and the compiled binary.\n",
    "\n",
    "**NOTE:** Don't forget to rebuild without the `-g` flag. BUilding in support for gprof will slow down your code a bit.\n",
    "\n",
    "Please use the following cell to build the llm.c code with `-g` enabled."
   ]
  },
  {
   "cell_type": "code",
   "execution_count": null,
   "metadata": {},
   "outputs": [],
   "source": [
    "! make clean; make OPT_CFLAGS=\"-g\""
   ]
  },
  {
   "cell_type": "markdown",
   "metadata": {},
   "source": [
    "After generating the binary executable with debugging flag, we can run the executable using `perf record` command before the normal command line and arguments on the cloud and pipe the profiled data into a file, `perf.data` (The default profile result output file name of perf). You may we the following cell to test this."
   ]
  },
  {
   "cell_type": "code",
   "execution_count": null,
   "metadata": {},
   "outputs": [],
   "source": [
    "! cse142 run \"perf record ./test_gpt2 > perf.data\""
   ]
  },
  {
   "cell_type": "markdown",
   "metadata": {},
   "source": [
    "Now, we can use `perf report` to interpret the output as human-readable content using the following cell."
   ]
  },
  {
   "cell_type": "code",
   "execution_count": null,
   "metadata": {},
   "outputs": [],
   "source": [
    "! perf report --stdio > perf.out"
   ]
  },
  {
   "cell_type": "markdown",
   "metadata": {},
   "source": [
    "The output file is really long, and the goal is never about optimizing everything. So we can use `head` command to see what's in the first 20 lines of the output."
   ]
  },
  {
   "cell_type": "code",
   "execution_count": null,
   "metadata": {},
   "outputs": [],
   "source": [
    "! head -20 perf.out"
   ]
  },
  {
   "cell_type": "markdown",
   "metadata": {},
   "source": [
    "Have you find which function takes the most significant amount of time?"
   ]
  },
  {
   "attachments": {
    "image.png": {
     "image/png": "[encoded data removed]"
    }
   },
   "cell_type": "markdown",
   "metadata": {
    "deleteable": false,
    "tags": []
   },
   "source": [
    "<div class=\"alert alert-block alert-danger\">\n",
    "    \n",
    "What's the most time consuming function?\n",
    "    \n",
    "    \n",
    "![image.png](attachment:image.png)\n",
    "</div>"
   ]
  },
  {
   "cell_type": "code",
   "execution_count": null,
   "metadata": {},
   "outputs": [],
   "source": [
    "# Fill the name of the function here\n",
    "\n",
    "most_time_consuming_function =  <Replace with the function name>"
   ]
  },
  {
   "cell_type": "markdown",
   "metadata": {
    "deletable": false,
    "tags": []
   },
   "source": [
    "# Programming Assignment"
   ]
  },
  {
   "cell_type": "markdown",
   "metadata": {
    "deleteable": false,
    "tags": []
   },
   "source": [
    "The assignments will all have a programming assignment as part of them.  The main purpose of this one is to get you familiar with the autograding submission process.  It doesn't require any challenging programming.\n",
    "\n",
    "In the assignment directory, you'll find `train_gpt2.h`, and now, we use the `render_code` notebook function to show the content of `matmul_forward` function."
   ]
  },
  {
   "cell_type": "code",
   "execution_count": null,
   "metadata": {
    "deleteable": false,
    "editable": false,
    "init_cell": true,
    "tags": []
   },
   "outputs": [],
   "source": [
    "render_code(\"train_gpt2.h\", show=\"matmul_forward\")"
   ]
  },
  {
   "cell_type": "markdown",
   "metadata": {},
   "source": [
    "Can you modify the following cell to show the content of the most time-consuming function?"
   ]
  },
  {
   "cell_type": "code",
   "execution_count": null,
   "metadata": {},
   "outputs": [],
   "source": [
    "render_code(\"train_gpt2.h\", show=most_time_consuming_function)"
   ]
  },
  {
   "cell_type": "markdown",
   "metadata": {},
   "source": [
    "Now, within the most time-consuming function, can you insert this line of code at the entrance of the function?"
   ]
  },
  {
   "cell_type": "markdown",
   "metadata": {},
   "source": [
    "```\n",
    "printf(\"%s\\n\", __func__);\n",
    "```"
   ]
  },
  {
   "cell_type": "markdown",
   "metadata": {},
   "source": [
    "If you do it right, you will see the function name of the identified most time-consuming function printed many many times when running the following command."
   ]
  },
  {
   "cell_type": "code",
   "execution_count": null,
   "metadata": {},
   "outputs": [],
   "source": [
    "!make test_gpt2\n",
    "!cse142 run \"./test_gpt2\""
   ]
  },
  {
   "cell_type": "markdown",
   "metadata": {
    "deleteable": false,
    "tags": []
   },
   "source": [
    "Now, edit the `print_my_name` function in `train_gpt2.h` so that we can see the following output exactly once at the end of the execution! \n",
    "```\n",
    "Trained by <your @ucsd.edu email address>!\n",
    "```\n",
    "You can test it again on the cloud with:"
   ]
  },
  {
   "cell_type": "code",
   "execution_count": null,
   "metadata": {},
   "outputs": [],
   "source": [
    "!make test_gpt2\n",
    "!cse142 run \"./test_gpt2 > test_gpt2.txt\""
   ]
  },
  {
   "cell_type": "markdown",
   "metadata": {
    "deleteable": false,
    "editable": false,
    "tags": []
   },
   "source": [
    "When your submit your code for autograding, it'll run in a more tightly controlled way that let's us reliably measure performance and grade your submission. You can simulate it like this:"
   ]
  },
  {
   "cell_type": "code",
   "execution_count": null,
   "metadata": {
    "deleteable": false,
    "editable": false,
    "tags": []
   },
   "outputs": [],
   "source": [
    "!cse142 run \"./autograde.py  --submission . --results -\""
   ]
  },
  {
   "cell_type": "markdown",
   "metadata": {
    "deleteable": false,
    "tags": []
   },
   "source": [
    "If you ran the original code, it gets zero points (`\"score\": 0`).  Once you correctly modify `train_gpt2.h`, you'll get 100 point.\n",
    "\n",
    "Once you are happy with your code, commit your changes to ``train_gpt2.h`.  You'll have to do this to turn it for official autograding."
   ]
  },
  {
   "cell_type": "code",
   "execution_count": null,
   "metadata": {
    "deleteable": false,
    "tags": []
   },
   "outputs": [],
   "source": [
    "!git commit -m \"Yay! I finished the first assignment!\" train_gpt2.h\n",
    "!git push"
   ]
  },
  {
   "cell_type": "markdown",
   "metadata": {
    "deleteable": false,
    "tags": []
   },
   "source": [
    "**If this asks you for a password, it means you forgot some initial steps in the README.md file of this repo. You'll need to interrupt your Jupyter notebook kernel and follow the exact steps in the README.md before you can start again.**\n",
    "\n",
    "If `git commit` tell you something like:\n",
    "\n",
    "*** Please tell me who you are.\n",
    "\n",
    "Run\n",
    "```\n",
    "git config --global user.email \"you@example.com\"\n",
    "git config --global user.name \"Your Name\"\n",
    "```\n",
    "to set your account's default identity.\n",
    "Omit `--global` to set the identity only in this repository.\n",
    "```\n",
    "fatal: unable to auto-detect email address (got 'prcheng@dsmlp-jupyter-prcheng.(none)')\n",
    "Warning: Permanently added the RSA host key for IP address '140.82.112.3' to the list of known hosts.\n",
    "Everything up-to-date\n",
    "```\n",
    "Then you can use a terminal and type in those commands to set this information correctly (but fill in your @ucsd.edu email and your name).\n"
   ]
  },
  {
   "cell_type": "markdown",
   "metadata": {
    "deletable": false,
    "editable": false,
    "tags": []
   },
   "source": [
    "# Turning in the programming assignment/lab"
   ]
  },
  {
   "cell_type": "markdown",
   "metadata": {
    "deleteable": false,
    "editable": false,
    "tags": []
   },
   "source": [
    "\n",
    "You need to turn in your notebook and your programming assignment/lab in the specific gradescope item.  \n",
    "After you complete the assignment/lab, you will turn it in by submitting your latest github repository.\n",
    "\n",
    "**Step 1:**  Save your workbook!!!"
   ]
  },
  {
   "cell_type": "code",
   "execution_count": null,
   "metadata": {
    "deletable": false,
    "editable": false,
    "tags": []
   },
   "outputs": [],
   "source": [
    "!for i in 1 2 3 4 5; do echo Save your files!!; sleep 1; done"
   ]
  },
  {
   "cell_type": "markdown",
   "metadata": {
    "deleteable": false,
    "editable": false,
    "tags": []
   },
   "source": [
    "**Step 2:**  Commit everything. Please run the following command."
   ]
  },
  {
   "cell_type": "code",
   "execution_count": null,
   "metadata": {
    "deleteable": false,
    "editable": false,
    "tags": []
   },
   "outputs": [],
   "source": [
    "!git commit -am \"Yay! I am ready to turn in!\"\n",
    "!git push"
   ]
  },
  {
   "cell_type": "markdown",
   "metadata": {
    "deleteable": false,
    "editable": false,
    "tags": []
   },
   "source": [
    "**Step 3**: \n",
    "Submit through gradescope\n",
    "You'll turn in your programming assignment by providing gradescope with your github repo of this assignment.   It'll run the autograder and return the results."
   ]
  },
  {
   "cell_type": "markdown",
   "metadata": {},
   "source": [
    "If `git commit` tell you something like:\n",
    "\n",
    "*** Please tell me who you are.\n",
    "\n",
    "Run\n",
    "```\n",
    "git config --global user.email \"you@example.com\"\n",
    "git config --global user.name \"Your Name\"\n",
    "```\n",
    "to set your account's default identity.\n",
    "Omit `--global` to set the identity only in this repository.\n",
    "```\n",
    "fatal: unable to auto-detect email address (got 'prcheng@dsmlp-jupyter-prcheng.(none)')\n",
    "Warning: Permanently added the RSA host key for IP address '140.82.112.3' to the list of known hosts.\n",
    "Everything up-to-date\n",
    "```\n",
    "Then you can use a terminal and type in those commands to set this information correctly (but fill in your @ucsd.edu email and your name).\n"
   ]
  },
  {
   "cell_type": "code",
   "execution_count": null,
   "metadata": {},
   "outputs": [],
   "source": []
  }
 ],
 "metadata": {
  "kernelspec": {
   "display_name": "Python 3 (ipykernel)",
   "language": "python",
   "name": "python3"
  },
  "language_info": {
   "codemirror_mode": {
    "name": "ipython",
    "version": 3
   },
   "file_extension": ".py",
   "mimetype": "text/x-python",
   "name": "python",
   "nbconvert_exporter": "python",
   "pygments_lexer": "ipython3",
   "version": "3.9.7"
  },
  "toc": {
   "base_numbering": 1,
   "nav_menu": {},
   "number_sections": true,
   "sideBar": true,
   "skip_h1_title": false,
   "title_cell": "Table of Contents",
   "title_sidebar": "Contents",
   "toc_cell": false,
   "toc_position": {
    "height": "calc(100% - 180px)",
    "left": "10px",
    "top": "150px",
    "width": "347.188px"
   },
   "toc_section_display": true,
   "toc_window_display": true
  },
  "toc-autonumbering": true,
  "vscode": {
   "interpreter": {
    "hash": "610c699f0cd8c4f129acd9140687fff6866bed0eb8e82f249fc8848b827b628c"
   }
  },
  "widgets": {
   "application/vnd.jupyter.widget-state+json": {
    "state": {},
    "version_major": 2,
    "version_minor": 0
   }
  }
 },
 "nbformat": 4,
 "nbformat_minor": 4
}
